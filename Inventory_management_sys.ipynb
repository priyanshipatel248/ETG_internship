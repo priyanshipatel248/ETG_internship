{
  "nbformat": 4,
  "nbformat_minor": 0,
  "metadata": {
    "colab": {
      "name": "Inventory_management_sys.ipynb",
      "provenance": []
    },
    "kernelspec": {
      "name": "python3",
      "display_name": "Python 3"
    },
    "language_info": {
      "name": "python"
    }
  },
  "cells": [
    {
      "cell_type": "code",
      "metadata": {
        "id": "oxlRuz0gQJ8a"
      },
      "source": [
        ""
      ],
      "execution_count": null,
      "outputs": []
    },
    {
      "cell_type": "code",
      "metadata": {
        "id": "MfW3u6lpZnd4"
      },
      "source": [
        "fj=open(\"idata.json\",'r')\n",
        "re=fj.read()\n",
        "fj.close()\n"
      ],
      "execution_count": 1,
      "outputs": []
    },
    {
      "cell_type": "code",
      "metadata": {
        "id": "x1-W_Kpyfj5C"
      },
      "source": [
        "import json\n",
        "record_data=json.loads(re)"
      ],
      "execution_count": 2,
      "outputs": []
    },
    {
      "cell_type": "code",
      "metadata": {
        "colab": {
          "base_uri": "https://localhost:8080/"
        },
        "id": "O9a9rAbkfq0S",
        "outputId": "b7aad64d-40b5-4560-e581-3fc3d17137b2"
      },
      "source": [
        "record_data"
      ],
      "execution_count": 3,
      "outputs": [
        {
          "output_type": "execute_result",
          "data": {
            "text/plain": [
              "{'1': {'manufactor_country': 'ind',\n",
              "  'name': 'mango candy',\n",
              "  'price': 15,\n",
              "  'quantity': 100,\n",
              "  't_name': 'mc'},\n",
              " '10': {'manufactor_country': 'us',\n",
              "  'name': 'burger',\n",
              "  'price': 80,\n",
              "  'quantity': 100,\n",
              "  't_name': 'b'},\n",
              " '11': {'manufactor_country': 'india',\n",
              "  'name': 'coffee',\n",
              "  'price': 50,\n",
              "  'quantity': 100,\n",
              "  't_name': 'c'},\n",
              " '12': {'manufactor_country': 'india',\n",
              "  'name': 'ginger tea',\n",
              "  'price': 35,\n",
              "  'quantity': 100,\n",
              "  't_name': 'gt'},\n",
              " '13': {'manufactor_country': 'india',\n",
              "  'name': 'tulsi tea',\n",
              "  'price': 35,\n",
              "  'quantity': 100,\n",
              "  't_name': 'tt'},\n",
              " '14': {'manufactor_country': 'aus',\n",
              "  'name': 'mud shake',\n",
              "  'price': 110,\n",
              "  'quantity': 100,\n",
              "  't_name': 'ms'},\n",
              " '15': {'manufactor_country': 'aus',\n",
              "  'name': 'apple juice',\n",
              "  'price': 100,\n",
              "  'quantity': 100,\n",
              "  't_name': 'aj'},\n",
              " '16': {'manufactor_country': 'us',\n",
              "  'name': 'hotdog',\n",
              "  'price': 90,\n",
              "  'quantity': 100,\n",
              "  't_name': 'hd'},\n",
              " '17': {'manufactor_country': 'india',\n",
              "  'name': 'pizza',\n",
              "  'price': 150,\n",
              "  'quantity': 100,\n",
              "  't_name': 'p'},\n",
              " '18': {'manufactor_country': 'india',\n",
              "  'name': 'garlic bread',\n",
              "  'price': 100,\n",
              "  'quantity': 100,\n",
              "  't_name': 'gb'},\n",
              " '19': {'manufactor_country': 'india',\n",
              "  'name': 'nachos chat',\n",
              "  'price': 60,\n",
              "  'quantity': 100,\n",
              "  't_name': 'nc'},\n",
              " '2': {'manufactor_country': 'aus',\n",
              "  'name': 'choco candy',\n",
              "  'price': 20,\n",
              "  'quantity': 100,\n",
              "  't_name': 'cc'},\n",
              " '20': {'manufactor_country': 'india',\n",
              "  'name': 'papadi chat',\n",
              "  'price': 50,\n",
              "  'quantity': 100,\n",
              "  't_name': 'pc'},\n",
              " '21': {'manufactor_country': 'india',\n",
              "  'name': 'maggie',\n",
              "  'price': 70,\n",
              "  'quantity': 100,\n",
              "  't_name': 'm'},\n",
              " '22': {'manufactor_country': 'india',\n",
              "  'name': 'cheese puff',\n",
              "  'price': 50,\n",
              "  'quantity': 100,\n",
              "  't_name': 'cp'},\n",
              " '23': {'manufactor_country': 'canada',\n",
              "  'name': 'pasta',\n",
              "  'price': 60,\n",
              "  'quantity': 100,\n",
              "  't_name': 'p'},\n",
              " '24': {'manufactor_country': 'china',\n",
              "  'name': 'hakka noodles',\n",
              "  'price': 80,\n",
              "  'quantity': 100,\n",
              "  't_name': 'hn'},\n",
              " '25': {'manufactor_country': 'india',\n",
              "  'name': 'water',\n",
              "  'price': 20,\n",
              "  'quantity': 100,\n",
              "  't_name': 'w'},\n",
              " '26': {'manufactor_country': 'india',\n",
              "  'name': 'energy drink',\n",
              "  'price': 110,\n",
              "  'quantity': 100,\n",
              "  't_name': 'ed'},\n",
              " '27': {'manufactor_country': 'india',\n",
              "  'name': 'fizzy water',\n",
              "  'price': 40,\n",
              "  'quantity': 100,\n",
              "  't_name': 'fw'},\n",
              " '28': {'manufactor_country': 'india',\n",
              "  'name': 'chocolate',\n",
              "  'price': 40,\n",
              "  'quantity': 100,\n",
              "  't_name': 'ch'},\n",
              " '29': {'manufactor_country': 'india',\n",
              "  'name': 'sitafal icecream',\n",
              "  'price': 70,\n",
              "  'quantity': 100,\n",
              "  't_name': 'si'},\n",
              " '3': {'manufactor_country': 'us',\n",
              "  'name': 'vanila cupcake',\n",
              "  'price': 35,\n",
              "  'quantity': 100,\n",
              "  't_name': 'vc'},\n",
              " '30': {'manufactor_country': 'india',\n",
              "  'name': 'rasgulla icecream',\n",
              "  'price': 90,\n",
              "  'quantity': 100,\n",
              "  't_name': 'ri'},\n",
              " '4': {'manufactor_country': 'ind',\n",
              "  'name': 'dryfruit matho',\n",
              "  'price': 50,\n",
              "  'quantity': 100,\n",
              "  't_name': 'dm'},\n",
              " '5': {'manufactor_country': 'india',\n",
              "  'name': 'kaju katri',\n",
              "  'price': 200,\n",
              "  'quantity': 100,\n",
              "  't_name': 'kk'},\n",
              " '6': {'manufactor_country': 'us',\n",
              "  'name': 'chocolava cake',\n",
              "  'price': 100,\n",
              "  'quantity': 100,\n",
              "  't_name': 'clc'},\n",
              " '7': {'manufactor_country': 'ind',\n",
              "  'name': 'Green sandwich',\n",
              "  'price': 70,\n",
              "  'quantity': 100,\n",
              "  't_name': 'gs'},\n",
              " '8': {'manufactor_country': 'ind',\n",
              "  'name': 'Dabeli',\n",
              "  'price': 35,\n",
              "  'quantity': 100,\n",
              "  't_name': 'd'},\n",
              " '9': {'manufactor_country': 'canda',\n",
              "  'name': 'cheese toast sandwich',\n",
              "  'price': 120,\n",
              "  'quantity': 100,\n",
              "  't_name': 'cts'}}"
            ]
          },
          "metadata": {},
          "execution_count": 3
        }
      ]
    },
    {
      "cell_type": "code",
      "metadata": {
        "id": "QlqeV1m5O7GD"
      },
      "source": [
        ""
      ],
      "execution_count": null,
      "outputs": []
    },
    {
      "cell_type": "markdown",
      "metadata": {
        "id": "R2PdiXFSOwCJ"
      },
      "source": [
        ""
      ]
    },
    {
      "cell_type": "markdown",
      "metadata": {
        "id": "XT6FThN2FHWH"
      },
      "source": [
        "**Add new Items**\n",
        "\n",
        "\n",
        "\n",
        "\n",
        "\n",
        "\n"
      ]
    },
    {
      "cell_type": "code",
      "metadata": {
        "colab": {
          "base_uri": "https://localhost:8080/"
        },
        "id": "QjrG5GjNPFy7",
        "outputId": "e0334eba-cbf9-4167-8e54-46915cc214c8"
      },
      "source": [
        "prod_id =str(input(\"Enter the product id: \"))\n",
        "prod_name =str(input(\"Enter the product name: \"))\n",
        "prod_price =int(input(\"Enter the product price: \"))\n",
        "prod_quantity =int(input(\"Enter the product quantity: \"))\n",
        "prod_tname =str(input(\"Enter the product tname: \"))\n",
        "manufactor_country =str(input(\"Enter the manufactor country: \"))"
      ],
      "execution_count": 4,
      "outputs": [
        {
          "name": "stdout",
          "output_type": "stream",
          "text": [
            "Enter the product id: 31\n",
            "Enter the product name: perk\n",
            "Enter the product price: 5\n",
            "Enter the product quantity: 100\n",
            "Enter the product tname: pe\n",
            "Enter the manufactor country: india\n"
          ]
        }
      ]
    },
    {
      "cell_type": "code",
      "metadata": {
        "colab": {
          "base_uri": "https://localhost:8080/"
        },
        "id": "38fjfX8AIzpM",
        "outputId": "780f8531-9bf4-4bda-a48a-9debaec32c4b"
      },
      "source": [
        "{prod_id: {'name':prod_name,'price':prod_price,'quantity':prod_quantity,'tname':prod_tname,'manufactor_country':manufactor_country}}"
      ],
      "execution_count": 5,
      "outputs": [
        {
          "output_type": "execute_result",
          "data": {
            "text/plain": [
              "{'31': {'manufactor_country': 'india',\n",
              "  'name': 'perk',\n",
              "  'price': 5,\n",
              "  'quantity': 100,\n",
              "  'tname': 'pe'}}"
            ]
          },
          "metadata": {},
          "execution_count": 5
        }
      ]
    },
    {
      "cell_type": "code",
      "metadata": {
        "id": "tY_ZFBmrKdov"
      },
      "source": [
        "record_data[prod_id]={prod_id: {'name':prod_name,'price':prod_price,'quantity':prod_quantity,'tname':prod_tname,'manufactor_country':manufactor_country}}"
      ],
      "execution_count": 6,
      "outputs": []
    },
    {
      "cell_type": "code",
      "metadata": {
        "colab": {
          "base_uri": "https://localhost:8080/"
        },
        "id": "bH_-LZC6N9fM",
        "outputId": "46d1b1a9-31c7-4001-fc1d-b8901f1b11cb"
      },
      "source": [
        "record_data"
      ],
      "execution_count": 7,
      "outputs": [
        {
          "output_type": "execute_result",
          "data": {
            "text/plain": [
              "{'1': {'manufactor_country': 'ind',\n",
              "  'name': 'mango candy',\n",
              "  'price': 15,\n",
              "  'quantity': 100,\n",
              "  't_name': 'mc'},\n",
              " '10': {'manufactor_country': 'us',\n",
              "  'name': 'burger',\n",
              "  'price': 80,\n",
              "  'quantity': 100,\n",
              "  't_name': 'b'},\n",
              " '11': {'manufactor_country': 'india',\n",
              "  'name': 'coffee',\n",
              "  'price': 50,\n",
              "  'quantity': 100,\n",
              "  't_name': 'c'},\n",
              " '12': {'manufactor_country': 'india',\n",
              "  'name': 'ginger tea',\n",
              "  'price': 35,\n",
              "  'quantity': 100,\n",
              "  't_name': 'gt'},\n",
              " '13': {'manufactor_country': 'india',\n",
              "  'name': 'tulsi tea',\n",
              "  'price': 35,\n",
              "  'quantity': 100,\n",
              "  't_name': 'tt'},\n",
              " '14': {'manufactor_country': 'aus',\n",
              "  'name': 'mud shake',\n",
              "  'price': 110,\n",
              "  'quantity': 100,\n",
              "  't_name': 'ms'},\n",
              " '15': {'manufactor_country': 'aus',\n",
              "  'name': 'apple juice',\n",
              "  'price': 100,\n",
              "  'quantity': 100,\n",
              "  't_name': 'aj'},\n",
              " '16': {'manufactor_country': 'us',\n",
              "  'name': 'hotdog',\n",
              "  'price': 90,\n",
              "  'quantity': 100,\n",
              "  't_name': 'hd'},\n",
              " '17': {'manufactor_country': 'india',\n",
              "  'name': 'pizza',\n",
              "  'price': 150,\n",
              "  'quantity': 100,\n",
              "  't_name': 'p'},\n",
              " '18': {'manufactor_country': 'india',\n",
              "  'name': 'garlic bread',\n",
              "  'price': 100,\n",
              "  'quantity': 100,\n",
              "  't_name': 'gb'},\n",
              " '19': {'manufactor_country': 'india',\n",
              "  'name': 'nachos chat',\n",
              "  'price': 60,\n",
              "  'quantity': 100,\n",
              "  't_name': 'nc'},\n",
              " '2': {'manufactor_country': 'aus',\n",
              "  'name': 'choco candy',\n",
              "  'price': 20,\n",
              "  'quantity': 100,\n",
              "  't_name': 'cc'},\n",
              " '20': {'manufactor_country': 'india',\n",
              "  'name': 'papadi chat',\n",
              "  'price': 50,\n",
              "  'quantity': 100,\n",
              "  't_name': 'pc'},\n",
              " '21': {'manufactor_country': 'india',\n",
              "  'name': 'maggie',\n",
              "  'price': 70,\n",
              "  'quantity': 100,\n",
              "  't_name': 'm'},\n",
              " '22': {'manufactor_country': 'india',\n",
              "  'name': 'cheese puff',\n",
              "  'price': 50,\n",
              "  'quantity': 100,\n",
              "  't_name': 'cp'},\n",
              " '23': {'manufactor_country': 'canada',\n",
              "  'name': 'pasta',\n",
              "  'price': 60,\n",
              "  'quantity': 100,\n",
              "  't_name': 'p'},\n",
              " '24': {'manufactor_country': 'china',\n",
              "  'name': 'hakka noodles',\n",
              "  'price': 80,\n",
              "  'quantity': 100,\n",
              "  't_name': 'hn'},\n",
              " '25': {'manufactor_country': 'india',\n",
              "  'name': 'water',\n",
              "  'price': 20,\n",
              "  'quantity': 100,\n",
              "  't_name': 'w'},\n",
              " '26': {'manufactor_country': 'india',\n",
              "  'name': 'energy drink',\n",
              "  'price': 110,\n",
              "  'quantity': 100,\n",
              "  't_name': 'ed'},\n",
              " '27': {'manufactor_country': 'india',\n",
              "  'name': 'fizzy water',\n",
              "  'price': 40,\n",
              "  'quantity': 100,\n",
              "  't_name': 'fw'},\n",
              " '28': {'manufactor_country': 'india',\n",
              "  'name': 'chocolate',\n",
              "  'price': 40,\n",
              "  'quantity': 100,\n",
              "  't_name': 'ch'},\n",
              " '29': {'manufactor_country': 'india',\n",
              "  'name': 'sitafal icecream',\n",
              "  'price': 70,\n",
              "  'quantity': 100,\n",
              "  't_name': 'si'},\n",
              " '3': {'manufactor_country': 'us',\n",
              "  'name': 'vanila cupcake',\n",
              "  'price': 35,\n",
              "  'quantity': 100,\n",
              "  't_name': 'vc'},\n",
              " '30': {'manufactor_country': 'india',\n",
              "  'name': 'rasgulla icecream',\n",
              "  'price': 90,\n",
              "  'quantity': 100,\n",
              "  't_name': 'ri'},\n",
              " '31': {'31': {'manufactor_country': 'india',\n",
              "   'name': 'perk',\n",
              "   'price': 5,\n",
              "   'quantity': 100,\n",
              "   'tname': 'pe'}},\n",
              " '4': {'manufactor_country': 'ind',\n",
              "  'name': 'dryfruit matho',\n",
              "  'price': 50,\n",
              "  'quantity': 100,\n",
              "  't_name': 'dm'},\n",
              " '5': {'manufactor_country': 'india',\n",
              "  'name': 'kaju katri',\n",
              "  'price': 200,\n",
              "  'quantity': 100,\n",
              "  't_name': 'kk'},\n",
              " '6': {'manufactor_country': 'us',\n",
              "  'name': 'chocolava cake',\n",
              "  'price': 100,\n",
              "  'quantity': 100,\n",
              "  't_name': 'clc'},\n",
              " '7': {'manufactor_country': 'ind',\n",
              "  'name': 'Green sandwich',\n",
              "  'price': 70,\n",
              "  'quantity': 100,\n",
              "  't_name': 'gs'},\n",
              " '8': {'manufactor_country': 'ind',\n",
              "  'name': 'Dabeli',\n",
              "  'price': 35,\n",
              "  'quantity': 100,\n",
              "  't_name': 'd'},\n",
              " '9': {'manufactor_country': 'canda',\n",
              "  'name': 'cheese toast sandwich',\n",
              "  'price': 120,\n",
              "  'quantity': 100,\n",
              "  't_name': 'cts'}}"
            ]
          },
          "metadata": {},
          "execution_count": 7
        }
      ]
    },
    {
      "cell_type": "code",
      "metadata": {
        "colab": {
          "base_uri": "https://localhost:8080/"
        },
        "id": "BxrXNqUPfCiR",
        "outputId": "dac5374a-6a89-4506-c6c4-58a60b44ebe3"
      },
      "source": [
        "prod_id =str(input(\"Enter the product id: \"))"
      ],
      "execution_count": 8,
      "outputs": [
        {
          "name": "stdout",
          "output_type": "stream",
          "text": [
            "Enter the product id: 1\n"
          ]
        }
      ]
    },
    {
      "cell_type": "code",
      "metadata": {
        "colab": {
          "base_uri": "https://localhost:8080/",
          "height": 35
        },
        "id": "coOqT0r2foFZ",
        "outputId": "08e80e06-18bf-435d-893b-3829a2550d41"
      },
      "source": [
        "record_data [prod_id]['t_name']"
      ],
      "execution_count": 9,
      "outputs": [
        {
          "output_type": "execute_result",
          "data": {
            "application/vnd.google.colaboratory.intrinsic+json": {
              "type": "string"
            },
            "text/plain": [
              "'mc'"
            ]
          },
          "metadata": {},
          "execution_count": 9
        }
      ]
    },
    {
      "cell_type": "code",
      "metadata": {
        "id": "MBDEciIOOHo4"
      },
      "source": [
        "js=json.dumps(record_data)"
      ],
      "execution_count": 10,
      "outputs": []
    },
    {
      "cell_type": "code",
      "metadata": {
        "id": "3ZbL60U6Q2C8"
      },
      "source": [
        "fj=open(\"idata.json\",'w')\n",
        "fj.write(js)\n",
        "fj.close()"
      ],
      "execution_count": 11,
      "outputs": []
    },
    {
      "cell_type": "markdown",
      "metadata": {
        "id": "oxF6hS54UeJz"
      },
      "source": [
        "**Purchase**"
      ]
    },
    {
      "cell_type": "code",
      "metadata": {
        "id": "O-reQ2haRl1H",
        "colab": {
          "base_uri": "https://localhost:8080/"
        },
        "outputId": "635bb190-61ed-4164-9ad9-e6ec9087930a"
      },
      "source": [
        "up_id=str(input(\"Enter the Product id to purchase: \"))\n",
        "up_qun=int(input(\"Enter the quantity of product: \"))\n",
        "\n",
        "\n",
        "print(\"____________Bill__________\")\n",
        "print(\"**************************\")\n",
        "print(\"Product_name: \",record_data[up_id]['name'])\n",
        "print(\"Product_price: \",record_data[up_id]['price'])\n",
        "\n",
        "print(\"Manufactor country: \",record_data[up_id]['manufactor_country'])\n",
        "print(\"____________________________\")\n",
        "print(\"Total amount: \",record_data[up_id]['price'] * up_qun)\n",
        "print(\"****************************\")\n",
        "print(\"_______Thank You !!________\")\n"
      ],
      "execution_count": 12,
      "outputs": [
        {
          "output_type": "stream",
          "name": "stdout",
          "text": [
            "Enter the Product id to purchase: 2\n",
            "Enter the quantity of product: 3\n",
            "____________Bill__________\n",
            "**************************\n",
            "Product_name:  choco candy\n",
            "Product_price:  20\n",
            "Manufactor country:  aus\n",
            "____________________________\n",
            "Total amount:  60\n",
            "****************************\n",
            "_______Thank You !!________\n"
          ]
        }
      ]
    },
    {
      "cell_type": "markdown",
      "metadata": {
        "id": "TyyeuFFnZZGv"
      },
      "source": [
        "**Update json data**"
      ]
    },
    {
      "cell_type": "code",
      "metadata": {
        "id": "7vuH9QPLZYKp"
      },
      "source": [
        "record_data[up_id]['quantity']=record_data[up_id]['quantity'] - up_qun"
      ],
      "execution_count": 13,
      "outputs": []
    },
    {
      "cell_type": "markdown",
      "metadata": {
        "id": "QD7K_F8ikHYm"
      },
      "source": [
        "**Update Inventory after Purchase**"
      ]
    },
    {
      "cell_type": "code",
      "metadata": {
        "id": "aRw3wuyxkE8d"
      },
      "source": [
        "js=json.dumps(record_data)\n",
        "fj=open(\"idata.json\",'w')\n",
        "fj.write(js)\n",
        "fj.close()"
      ],
      "execution_count": 14,
      "outputs": []
    },
    {
      "cell_type": "code",
      "metadata": {
        "colab": {
          "base_uri": "https://localhost:8080/"
        },
        "id": "DYHYn5eA9euU",
        "outputId": "6c9dc6ce-62c9-4e76-c1bb-78dedace7d0b"
      },
      "source": [
        "{'prod':up_id,'quantity':up_qun,'amount':record_data[up_id]['price'] * up_qun}"
      ],
      "execution_count": 27,
      "outputs": [
        {
          "output_type": "execute_result",
          "data": {
            "text/plain": [
              "{'amount': 60, 'prod': '2', 'quantity': 3}"
            ]
          },
          "metadata": {},
          "execution_count": 27
        }
      ]
    },
    {
      "cell_type": "markdown",
      "metadata": {
        "id": "ikat_Id_lY2S"
      },
      "source": [
        "**Sales File**"
      ]
    },
    {
      "cell_type": "code",
      "metadata": {
        "id": "FMd9CkLM5-8-"
      },
      "source": [
        "sales={1:{'prod':up_id,'quantity':up_qun,'amount':record_data[up_id]['price'] * up_qun},\n",
        "       2:{'prod':up_id,'quantity':up_qun,'amount':record_data[up_id]['price'] * up_qun},\n",
        "       3:{'prod':up_id,'quantity':up_qun,'amount':record_data[up_id]['price'] * up_qun} }"
      ],
      "execution_count": 28,
      "outputs": []
    },
    {
      "cell_type": "code",
      "metadata": {
        "id": "XZ0w1Tyd6066"
      },
      "source": [
        "sale=json.dumps(sales)"
      ],
      "execution_count": 32,
      "outputs": []
    },
    {
      "cell_type": "code",
      "metadata": {
        "id": "hKNLLUGw7hTp"
      },
      "source": [
        "fj=open(\"sales.json\",'w')\n",
        "r=fj.write(sale)\n",
        "fj.close()\n"
      ],
      "execution_count": 34,
      "outputs": []
    },
    {
      "cell_type": "code",
      "metadata": {
        "colab": {
          "base_uri": "https://localhost:8080/"
        },
        "id": "HoViqzzk7wC8",
        "outputId": "b6490281-4ecb-4837-9cee-95cdc3ffb20e"
      },
      "source": [
        "len(sales)"
      ],
      "execution_count": 23,
      "outputs": [
        {
          "output_type": "execute_result",
          "data": {
            "text/plain": [
              "3"
            ]
          },
          "metadata": {},
          "execution_count": 23
        }
      ]
    },
    {
      "cell_type": "code",
      "metadata": {
        "id": "48RACyckALpz"
      },
      "source": [
        ""
      ],
      "execution_count": null,
      "outputs": []
    }
  ]
}